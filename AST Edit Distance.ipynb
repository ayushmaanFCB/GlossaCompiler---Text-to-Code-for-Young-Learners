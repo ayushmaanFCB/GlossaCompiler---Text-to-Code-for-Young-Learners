{
 "cells": [
  {
   "cell_type": "markdown",
   "metadata": {},
   "source": [
    "# AST Edit Distance Scoring Mechanism\n",
    "\n",
    "### Designing the scoring Algorithm\n",
    "\n",
    "- Normalization with `ASTNormalizer`:\n",
    "    - Replaces variable and function names with placeholders (`VAR` and `FUNC`).\n",
    "    - Ensures comparison is based on structure, not variable naming.\n",
    "\n",
    "- Tree Conversion:\n",
    "    - Converts normalized AST into a tree structure compatible with `zss`.\n",
    "    - Each AST node is represented by its type (e.g., `FunctionDef`, `Return`).\n",
    "\n",
    "- Edit Distance with `zss`:\n",
    "    - Computes the minimum number of operations (insertions, deletions, substitutions) required to transform one tree into another.\n",
    "\n",
    "- Similarity Score:\n",
    "    - Converts edit distance into a normalized similarity score between 0 and 1.\n",
    "    - Adjusts for code length to ensure fair scoring.\n"
   ]
  },
  {
   "cell_type": "code",
   "execution_count": 1,
   "metadata": {},
   "outputs": [],
   "source": [
    "import ast\n",
    "from zss import simple_distance, Node"
   ]
  },
  {
   "cell_type": "markdown",
   "metadata": {},
   "source": [
    "- Normalizes the AST by replacing variable names and argument names"
   ]
  },
  {
   "cell_type": "code",
   "execution_count": null,
   "metadata": {},
   "outputs": [],
   "source": [
    "class ASTNormalizer(ast.NodeTransformer):\n",
    "    \n",
    "    def visit_Name(self, node):\n",
    "        # Replace all variable names with a placeholder\n",
    "        return ast.copy_location(ast.Name(id=\"VAR\", ctx=node.ctx), node)\n",
    "\n",
    "    def visit_arg(self, node):\n",
    "        # Replace argument names with a placeholder\n",
    "        node.arg = \"ARG\"\n",
    "        return node\n",
    "\n",
    "    def visit_FunctionDef(self, node):\n",
    "        # Normalize function names\n",
    "        node.name = \"FUNC\"\n",
    "        self.generic_visit(node)\n",
    "        return node"
   ]
  },
  {
   "cell_type": "markdown",
   "metadata": {},
   "source": [
    "- Normalize an AST to focus on structure rather than specific names."
   ]
  },
  {
   "cell_type": "code",
   "execution_count": null,
   "metadata": {},
   "outputs": [],
   "source": [
    "def normalize_ast(tree):\n",
    "    normalizer = ASTNormalizer()\n",
    "    return normalizer.visit(tree)"
   ]
  },
  {
   "cell_type": "markdown",
   "metadata": {},
   "source": [
    "- Convert an AST into a tree structure suitable for zss library"
   ]
  },
  {
   "cell_type": "code",
   "execution_count": 5,
   "metadata": {},
   "outputs": [],
   "source": [
    "def build_tree(node):\n",
    "    if not isinstance(node, ast.AST):\n",
    "        # If the node isn't an AST node, return its string representation\n",
    "        return Node(str(node))\n",
    "    # Create a tree node with the type of the AST node\n",
    "    root = Node(type(node).__name__)\n",
    "    # Recursively add children nodes\n",
    "    for child in ast.iter_child_nodes(node):\n",
    "        root.addkid(build_tree(child))\n",
    "    return root\n"
   ]
  },
  {
   "cell_type": "markdown",
   "metadata": {},
   "source": [
    "- Compute the edit distance between two pieces of Python code"
   ]
  },
  {
   "cell_type": "code",
   "execution_count": 6,
   "metadata": {},
   "outputs": [],
   "source": [
    "def compute_ast_edit_distance(code1, code2):\n",
    "    # Parse the code into ASTs\n",
    "    ast1 = ast.parse(code1)\n",
    "    ast2 = ast.parse(code2)\n",
    "    \n",
    "    # Normalize the ASTs\n",
    "    norm_ast1 = normalize_ast(ast1)\n",
    "    norm_ast2 = normalize_ast(ast2)\n",
    "    \n",
    "    # Convert ASTs to tree structures\n",
    "    tree1 = build_tree(norm_ast1)\n",
    "    tree2 = build_tree(norm_ast2)\n",
    "    \n",
    "    # Compute the edit distance using zss\n",
    "    return simple_distance(tree1, tree2)"
   ]
  },
  {
   "cell_type": "markdown",
   "metadata": {},
   "source": [
    "- Convert edit distance to a similarity score (1 means identical, 0 means completely different)"
   ]
  },
  {
   "cell_type": "code",
   "execution_count": 8,
   "metadata": {},
   "outputs": [],
   "source": [
    "def ast_similarity_score(code1, code2):\n",
    "    # Compute edit distance\n",
    "    distance = compute_ast_edit_distance(code1, code2)\n",
    "    \n",
    "    # Normalize the distance to a similarity score\n",
    "    # (You can adjust the normalization formula as needed)\n",
    "    max_possible_distance = max(len(code1), len(code2))\n",
    "    similarity_score = 1 - (distance / max_possible_distance)\n",
    "    return max(0, similarity_score)  # Ensure score is non-negative"
   ]
  },
  {
   "cell_type": "markdown",
   "metadata": {},
   "source": [
    "- Sample Demonstration of the Scoring Mechanism"
   ]
  },
  {
   "cell_type": "code",
   "execution_count": 10,
   "metadata": {},
   "outputs": [
    {
     "name": "stdout",
     "output_type": "stream",
     "text": [
      "AST Edit Distance: 5.0\n",
      "AST Similarity Score: 0.95\n"
     ]
    }
   ],
   "source": [
    "code_1 = \"\"\"\n",
    "def is_even(n):\n",
    "    return n % 2 == 0\n",
    "\"\"\"\n",
    "\n",
    "code_2 = \"\"\"\n",
    "def check(var_1):\n",
    "    if var_1 % 2 == 0:\n",
    "        return True\n",
    "    else:\n",
    "        return False\n",
    "\"\"\"\n",
    "\n",
    "edit_distance = compute_ast_edit_distance(code_1, code_2)\n",
    "similarity = ast_similarity_score(code_1, code_2)\n",
    "\n",
    "print(f\"AST Edit Distance: {edit_distance}\")\n",
    "print(f\"AST Similarity Score: {similarity:.2f}\")"
   ]
  },
  {
   "cell_type": "markdown",
   "metadata": {},
   "source": [
    "<hr>\n",
    "\n",
    "### Loading the Model and Vocabulary"
   ]
  },
  {
   "cell_type": "code",
   "execution_count": 16,
   "metadata": {},
   "outputs": [],
   "source": [
    "import torch, pickle\n",
    "from torch.utils.data import DataLoader, Dataset\n",
    "from nltk.translate.bleu_score import sentence_bleu\n",
    "\n",
    "from prompt_model import Encoder, EncoderLayer, PositionwiseFeedforwardLayer, MultiHeadAttentionLayer, Decoder, DecoderLayer, Seq2Seq\n",
    "\n",
    "model_path = 'models/conversational-ai-model-cpu.pt'\n",
    "model = torch.load(model_path)\n",
    "\n",
    "with open('./vocabs/source_vocab.pkl', 'rb') as f:\n",
    "        src_vocab = pickle.load(f)\n",
    "\n",
    "with open('./vocabs/target_vocab.pkl', 'rb') as f:\n",
    "        trg_vocab = pickle.load(f)"
   ]
  },
  {
   "cell_type": "code",
   "execution_count": 17,
   "metadata": {},
   "outputs": [],
   "source": [
    "from torchtext.data import Field\n",
    "\n",
    "SRC = Field(tokenize=lambda x: x.split(),\n",
    "            init_token='<sos>',\n",
    "            eos_token='<eos>',\n",
    "            lower=True)\n",
    "\n",
    "TRG = Field(tokenize=lambda x: x.split(),\n",
    "            init_token='<sos>',\n",
    "            eos_token='<eos>',\n",
    "            lower=True)\n",
    "SRC.vocab = src_vocab\n",
    "TRG.vocab = trg_vocab"
   ]
  },
  {
   "cell_type": "markdown",
   "metadata": {},
   "source": [
    "<hr>\n",
    "\n",
    "### Converting prompts and replies to Torch Tensors"
   ]
  },
  {
   "cell_type": "code",
   "execution_count": 18,
   "metadata": {},
   "outputs": [],
   "source": [
    "import spacy\n",
    "\n",
    "device = torch.device('cuda' if torch.cuda.is_available() else 'cpu')\n",
    "\n",
    "def translate_sentence(sentence, src_field, trg_field, model, device, max_len=50000):\n",
    "    model.eval()\n",
    "    if isinstance(sentence, str):\n",
    "        nlp = spacy.load('en')\n",
    "        tokens = [token.text.lower() for token in nlp(sentence)]\n",
    "    else:\n",
    "        tokens = [token.lower() for token in sentence]\n",
    "\n",
    "    tokens = [src_field.init_token] + tokens + [src_field.eos_token]\n",
    "    src_indexes = [src_field.vocab.stoi[token] for token in tokens]\n",
    "\n",
    "    src_tensor = torch.LongTensor(src_indexes).unsqueeze(0).to(device)\n",
    "    src_mask = model.make_src_mask(src_tensor)\n",
    "\n",
    "    with torch.no_grad():\n",
    "        enc_src = model.encoder(src_tensor, src_mask)\n",
    "    trg_indexes = [trg_field.vocab.stoi[trg_field.init_token]]\n",
    "\n",
    "    for _ in range(max_len):\n",
    "        trg_tensor = torch.LongTensor(trg_indexes).unsqueeze(0).to(device)\n",
    "        trg_mask = model.make_trg_mask(trg_tensor)\n",
    "        with torch.no_grad():\n",
    "            output, attention = model.decoder(\n",
    "                trg_tensor, enc_src, trg_mask, src_mask)\n",
    "        pred_token = output.argmax(2)[:, -1].item()\n",
    "        trg_indexes.append(pred_token)\n",
    "        if pred_token == trg_field.vocab.stoi[trg_field.eos_token]:\n",
    "            break\n",
    "\n",
    "    trg_tokens = [trg_field.vocab.itos[i] for i in trg_indexes]\n",
    "    return trg_tokens[1:], attention"
   ]
  },
  {
   "cell_type": "code",
   "execution_count": 19,
   "metadata": {},
   "outputs": [],
   "source": [
    "from tokenize import untokenize\n",
    "\n",
    "def eng_to_python(src):\n",
    "    src = src.split(\" \")\n",
    "    translation, _ = translate_sentence(src, SRC, TRG, model, device)\n",
    "    return untokenize(translation[:-1]).decode('utf-8')"
   ]
  },
  {
   "cell_type": "markdown",
   "metadata": {},
   "source": [
    "### Tesing the model scores with AST"
   ]
  },
  {
   "cell_type": "markdown",
   "metadata": {},
   "source": [
    "- Generating replies using pre-defined prompts"
   ]
  },
  {
   "cell_type": "code",
   "execution_count": 20,
   "metadata": {},
   "outputs": [],
   "source": [
    "prompts = []\n",
    "original_replies = []\n",
    "\n",
    "with open(\"data/test.txt\", \"r\") as file:\n",
    "    current_prompt = None\n",
    "    current_reply = []\n",
    "\n",
    "    for line in file:\n",
    "        if line.startswith(\"#\"):\n",
    "            if current_prompt is not None:\n",
    "                original_replies.append(''.join(current_reply).strip())\n",
    "\n",
    "            current_prompt = line.strip(\"# \").strip()\n",
    "            prompts.append(current_prompt)\n",
    "            current_reply = []\n",
    "        else:\n",
    "            current_reply.append(line)\n",
    "    \n",
    "    if current_prompt is not None:\n",
    "        original_replies.append(''.join(current_reply).strip())"
   ]
  },
  {
   "cell_type": "code",
   "execution_count": 42,
   "metadata": {},
   "outputs": [],
   "source": [
    "bot_reply = []\n",
    "\n",
    "for prompt in prompts:\n",
    "    bot_reply.append(eng_to_python(prompt))"
   ]
  },
  {
   "cell_type": "markdown",
   "metadata": {},
   "source": [
    "- Fixing minor syntactic errors within code for compilation"
   ]
  },
  {
   "cell_type": "code",
   "execution_count": 56,
   "metadata": {},
   "outputs": [],
   "source": [
    "import autopep8\n",
    "def fix_code(code):\n",
    "    try:\n",
    "        code = autopep8.fix_code(code)\n",
    "        ast.parse(code)  # Validate the corrected code\n",
    "        return code\n",
    "    except SyntaxError:\n",
    "        return None"
   ]
  },
  {
   "cell_type": "markdown",
   "metadata": {},
   "source": [
    "- Calcualting Scores"
   ]
  },
  {
   "cell_type": "code",
   "execution_count": 57,
   "metadata": {},
   "outputs": [
    {
     "data": {
      "text/plain": [
       "[{'original_replies': 'def square(n):\\n    return n * n',\n",
       "  'model_reply': 'def multiply(x, y):\\n    return x * y\\n',\n",
       "  'edit_distance': 1.0,\n",
       "  'similarity': 0.972972972972973},\n",
       " {'original_replies': 'def is_even(n):\\n    return n % 2 == 0',\n",
       "  'model_reply': 'def check(var_1):\\n    if var_1 == 0:\\n        return True\\n    else:\\n        return False\\n',\n",
       "  'edit_distance': 7.0,\n",
       "  'similarity': 0.9204545454545454},\n",
       " {'original_replies': 'def max_num(a, b):\\n    return a if a > b else b',\n",
       "  'model_reply': 'def lcm(var_1, y):\\n    if var_1 > y:\\n        return var_1\\n    else:\\n        return True\\n',\n",
       "  'edit_distance': 5.0,\n",
       "  'similarity': 0.9431818181818182},\n",
       " {'original_replies': 'def reverse_string(s):\\n    return s[::-1]',\n",
       "  'model_reply': 'def reverse_string(str_to_be_reversed):\\n    return str_to_be_reversed[:-1]\\n',\n",
       "  'edit_distance': 0.0,\n",
       "  'similarity': 1.0},\n",
       " {'original_replies': 'def sum_list(lst):\\n    return sum(lst)',\n",
       "  'model_reply': 'def cal_total_cap_in_parallel(var_1: list) -> float:\\n    return sum(var_1)\\n',\n",
       "  'edit_distance': 4.0,\n",
       "  'similarity': 0.9466666666666667},\n",
       " {'original_replies': 'def factorial(n):\\n    if n == 0:\\n        return 1\\n    else:\\n        return n * factorial(n-1)',\n",
       "  'model_reply': 'def factorial(n):\\n    count = 0\\n    for i in range(1, n):\\n        count += 1\\n\\n\\nprint(count)\\n',\n",
       "  'edit_distance': 21.0,\n",
       "  'similarity': 0.7741935483870968},\n",
       " {'original_replies': 'def is_palindrome(s):\\n    return s == s[::-1]',\n",
       "  'model_reply': 'def isPalindrome(s):\\n    return s == s == s[:-1]\\n',\n",
       "  'edit_distance': 3.0,\n",
       "  'similarity': 0.9387755102040817},\n",
       " {'original_replies': 'def celsius_to_fahrenheit(c):\\n    return (c * 9/5) + 32',\n",
       "  'model_reply': '\\ndef celsius(var_1):\\n    return (var_1 * var_1)/100\\n',\n",
       "  'edit_distance': 5.0,\n",
       "  'similarity': 0.9090909090909091},\n",
       " {'original_replies': 'def min_num(a, b, c):\\n    return min(a, b, c)',\n",
       "  'model_reply': 'def lcm (a ,b ):\\n    return a *a \\na =5 \\na =6 \\na =7 \\na =a =a *a \\na =a \\na \\na =a +b \\na =a +b \\na +b \\na =a +b \\na +b \\na =a +b \\na \\na =a +b \\na \\na =a \\na +b \\na +b \\na =a +b \\na )\\na =a \\na =a +b \\na \\na +b \\na =a \\nprint (a )',\n",
       "  'edit_distance': None,\n",
       "  'similarity': None},\n",
       " {'original_replies': 'def count_char(s, char):\\n    return s.count(char)',\n",
       "  'model_reply': 'def reverse_string(str1):\\n    return str1[:-1]\\n',\n",
       "  'edit_distance': 8.0,\n",
       "  'similarity': 0.8367346938775511},\n",
       " {'original_replies': 'def is_prime(n):\\n    if n <= 1:\\n        return False\\n    for i in range(2, int(n**0.5) + 1):\\n        if n % i == 0:\\n            return False\\n    return True',\n",
       "  'model_reply': 'def compute_lcm(x, y):\\n\\n    # choose the greater number\\n    # choose the greater number\\n    if x > y:\\n        x = x\\n    else:\\n        x = x\\n\\n    for x in range(1, x):\\n        if (x % x == 0):\\n            print(x)\\n    else:\\n        print(x)\\n',\n",
       "  'edit_distance': 36.0,\n",
       "  'similarity': 0.85},\n",
       " {'original_replies': 'def list_length(lst):\\n    return len(lst)',\n",
       "  'model_reply': 'def multiply(x, y):\\n    return x * y\\n',\n",
       "  'edit_distance': 3.0,\n",
       "  'similarity': 0.926829268292683},\n",
       " {'original_replies': 'def first_element(lst):\\n    return lst[0] if lst else None',\n",
       "  'model_reply': 'def cal_perimeter_square(var_1):\\n    return 4 * var_1\\n',\n",
       "  'edit_distance': 8.0,\n",
       "  'similarity': 0.8620689655172413},\n",
       " {'original_replies': 'def last_element(lst):\\n    return lst[-1] if lst else None',\n",
       "  'model_reply': 'def permute (nums ):\\n    [[[]]]=[[[[[]]]][[[[[[]]]for var_1 in nums ]]]\\n    return [[[[var_1 ]]for var_1 in nums ]\\n\\n',\n",
       "  'edit_distance': None,\n",
       "  'similarity': None},\n",
       " {'original_replies': 'def is_empty(lst):\\n    return len(lst) == 0',\n",
       "  'model_reply': 'def collable_check(var_1: list):\\n    return callable(var_1)\\n',\n",
       "  'edit_distance': 5.0,\n",
       "  'similarity': 0.9166666666666666},\n",
       " {'original_replies': 'def absolute_value(n):\\n    return abs(n)',\n",
       "  'model_reply': 'def add_two_numbers(num1, num2):\\n    var_1 = num1 + num2\\n    return var_1\\n',\n",
       "  'edit_distance': 9.0,\n",
       "  'similarity': 0.8783783783783784},\n",
       " {'original_replies': 'def to_uppercase(s):\\n    return s.upper()',\n",
       "  'model_reply': 'def reverse_string(str1):\\n    return str1[:-1]\\n',\n",
       "  'edit_distance': 6.0,\n",
       "  'similarity': 0.8723404255319149},\n",
       " {'original_replies': 'def to_lowercase(s):\\n    return s.lower()',\n",
       "  'model_reply': 'def reverse_string(str1):\\n    return str1[:-1]\\n',\n",
       "  'edit_distance': 6.0,\n",
       "  'similarity': 0.8723404255319149},\n",
       " {'original_replies': 'def capitalize_string(s):\\n    return s.capitalize()',\n",
       "  'model_reply': 'def reverse_string(str1):\\n    return str_to_be_reversed[:-1]\\n',\n",
       "  'edit_distance': 6.0,\n",
       "  'similarity': 0.9016393442622951},\n",
       " {'original_replies': 'def remainder(a, b):\\n    return a % b',\n",
       "  'model_reply': 'def compute_lcm(x, y):\\n    if x > y:\\n        greater = y\\n    else:\\n        greater = y\\n    return True\\n',\n",
       "  'edit_distance': 15.0,\n",
       "  'similarity': 0.854368932038835}]"
      ]
     },
     "execution_count": 57,
     "metadata": {},
     "output_type": "execute_result"
    }
   ],
   "source": [
    "ast_scores = []\n",
    "\n",
    "for original, bot in zip(original_replies, bot_reply):\n",
    "    reference = original \n",
    "    candidate = fix_code(bot)\n",
    "    if candidate:\n",
    "        edit_distance = compute_ast_edit_distance(reference, candidate)\n",
    "        similarity = ast_similarity_score(reference, candidate)\n",
    "        ast_scores.append({\n",
    "            \"original_replies\":reference,\n",
    "            \"model_reply\":candidate,\n",
    "            \"edit_distance\":edit_distance,\n",
    "            \"similarity\": similarity\n",
    "        })\n",
    "    else:\n",
    "        ast_scores.append({\n",
    "            \"original_replies\":reference,\n",
    "            \"model_reply\":bot,\n",
    "            \"edit_distance\": None,\n",
    "            \"similarity\": None\n",
    "        })\n",
    "\n",
    "ast_scores"
   ]
  },
  {
   "cell_type": "markdown",
   "metadata": {},
   "source": [
    "<hr>\n",
    "\n",
    "### Visualization of model performance\n"
   ]
  },
  {
   "cell_type": "code",
   "execution_count": 75,
   "metadata": {},
   "outputs": [
    {
     "data": {
      "text/html": [
       "<style type=\"text/css\">\n",
       "#T_a6b90_row8_col0, #T_a6b90_row8_col1, #T_a6b90_row8_col2, #T_a6b90_row8_col3, #T_a6b90_row13_col0, #T_a6b90_row13_col1, #T_a6b90_row13_col2, #T_a6b90_row13_col3 {\n",
       "  background-color: lightcoral;\n",
       "}\n",
       "</style>\n",
       "<table id=\"T_a6b90\">\n",
       "  <thead>\n",
       "    <tr>\n",
       "      <th class=\"blank level0\" >&nbsp;</th>\n",
       "      <th id=\"T_a6b90_level0_col0\" class=\"col_heading level0 col0\" >original_replies</th>\n",
       "      <th id=\"T_a6b90_level0_col1\" class=\"col_heading level0 col1\" >model_reply</th>\n",
       "      <th id=\"T_a6b90_level0_col2\" class=\"col_heading level0 col2\" >edit_distance</th>\n",
       "      <th id=\"T_a6b90_level0_col3\" class=\"col_heading level0 col3\" >similarity</th>\n",
       "    </tr>\n",
       "  </thead>\n",
       "  <tbody>\n",
       "    <tr>\n",
       "      <th id=\"T_a6b90_level0_row0\" class=\"row_heading level0 row0\" >0</th>\n",
       "      <td id=\"T_a6b90_row0_col0\" class=\"data row0 col0\" >def square(n):\n",
       "    return n * n</td>\n",
       "      <td id=\"T_a6b90_row0_col1\" class=\"data row0 col1\" >def multiply(x, y):\n",
       "    return x * y\n",
       "</td>\n",
       "      <td id=\"T_a6b90_row0_col2\" class=\"data row0 col2\" >1.000000</td>\n",
       "      <td id=\"T_a6b90_row0_col3\" class=\"data row0 col3\" >0.972973</td>\n",
       "    </tr>\n",
       "    <tr>\n",
       "      <th id=\"T_a6b90_level0_row1\" class=\"row_heading level0 row1\" >1</th>\n",
       "      <td id=\"T_a6b90_row1_col0\" class=\"data row1 col0\" >def is_even(n):\n",
       "    return n % 2 == 0</td>\n",
       "      <td id=\"T_a6b90_row1_col1\" class=\"data row1 col1\" >def check(var_1):\n",
       "    if var_1 == 0:\n",
       "        return True\n",
       "    else:\n",
       "        return False\n",
       "</td>\n",
       "      <td id=\"T_a6b90_row1_col2\" class=\"data row1 col2\" >7.000000</td>\n",
       "      <td id=\"T_a6b90_row1_col3\" class=\"data row1 col3\" >0.920455</td>\n",
       "    </tr>\n",
       "    <tr>\n",
       "      <th id=\"T_a6b90_level0_row2\" class=\"row_heading level0 row2\" >2</th>\n",
       "      <td id=\"T_a6b90_row2_col0\" class=\"data row2 col0\" >def max_num(a, b):\n",
       "    return a if a > b else b</td>\n",
       "      <td id=\"T_a6b90_row2_col1\" class=\"data row2 col1\" >def lcm(var_1, y):\n",
       "    if var_1 > y:\n",
       "        return var_1\n",
       "    else:\n",
       "        return True\n",
       "</td>\n",
       "      <td id=\"T_a6b90_row2_col2\" class=\"data row2 col2\" >5.000000</td>\n",
       "      <td id=\"T_a6b90_row2_col3\" class=\"data row2 col3\" >0.943182</td>\n",
       "    </tr>\n",
       "    <tr>\n",
       "      <th id=\"T_a6b90_level0_row3\" class=\"row_heading level0 row3\" >3</th>\n",
       "      <td id=\"T_a6b90_row3_col0\" class=\"data row3 col0\" >def reverse_string(s):\n",
       "    return s[::-1]</td>\n",
       "      <td id=\"T_a6b90_row3_col1\" class=\"data row3 col1\" >def reverse_string(str_to_be_reversed):\n",
       "    return str_to_be_reversed[:-1]\n",
       "</td>\n",
       "      <td id=\"T_a6b90_row3_col2\" class=\"data row3 col2\" >0.000000</td>\n",
       "      <td id=\"T_a6b90_row3_col3\" class=\"data row3 col3\" >1.000000</td>\n",
       "    </tr>\n",
       "    <tr>\n",
       "      <th id=\"T_a6b90_level0_row4\" class=\"row_heading level0 row4\" >4</th>\n",
       "      <td id=\"T_a6b90_row4_col0\" class=\"data row4 col0\" >def sum_list(lst):\n",
       "    return sum(lst)</td>\n",
       "      <td id=\"T_a6b90_row4_col1\" class=\"data row4 col1\" >def cal_total_cap_in_parallel(var_1: list) -> float:\n",
       "    return sum(var_1)\n",
       "</td>\n",
       "      <td id=\"T_a6b90_row4_col2\" class=\"data row4 col2\" >4.000000</td>\n",
       "      <td id=\"T_a6b90_row4_col3\" class=\"data row4 col3\" >0.946667</td>\n",
       "    </tr>\n",
       "    <tr>\n",
       "      <th id=\"T_a6b90_level0_row5\" class=\"row_heading level0 row5\" >5</th>\n",
       "      <td id=\"T_a6b90_row5_col0\" class=\"data row5 col0\" >def factorial(n):\n",
       "    if n == 0:\n",
       "        return 1\n",
       "    else:\n",
       "        return n * factorial(n-1)</td>\n",
       "      <td id=\"T_a6b90_row5_col1\" class=\"data row5 col1\" >def factorial(n):\n",
       "    count = 0\n",
       "    for i in range(1, n):\n",
       "        count += 1\n",
       "\n",
       "\n",
       "print(count)\n",
       "</td>\n",
       "      <td id=\"T_a6b90_row5_col2\" class=\"data row5 col2\" >21.000000</td>\n",
       "      <td id=\"T_a6b90_row5_col3\" class=\"data row5 col3\" >0.774194</td>\n",
       "    </tr>\n",
       "    <tr>\n",
       "      <th id=\"T_a6b90_level0_row6\" class=\"row_heading level0 row6\" >6</th>\n",
       "      <td id=\"T_a6b90_row6_col0\" class=\"data row6 col0\" >def is_palindrome(s):\n",
       "    return s == s[::-1]</td>\n",
       "      <td id=\"T_a6b90_row6_col1\" class=\"data row6 col1\" >def isPalindrome(s):\n",
       "    return s == s == s[:-1]\n",
       "</td>\n",
       "      <td id=\"T_a6b90_row6_col2\" class=\"data row6 col2\" >3.000000</td>\n",
       "      <td id=\"T_a6b90_row6_col3\" class=\"data row6 col3\" >0.938776</td>\n",
       "    </tr>\n",
       "    <tr>\n",
       "      <th id=\"T_a6b90_level0_row7\" class=\"row_heading level0 row7\" >7</th>\n",
       "      <td id=\"T_a6b90_row7_col0\" class=\"data row7 col0\" >def celsius_to_fahrenheit(c):\n",
       "    return (c * 9/5) + 32</td>\n",
       "      <td id=\"T_a6b90_row7_col1\" class=\"data row7 col1\" >\n",
       "def celsius(var_1):\n",
       "    return (var_1 * var_1)/100\n",
       "</td>\n",
       "      <td id=\"T_a6b90_row7_col2\" class=\"data row7 col2\" >5.000000</td>\n",
       "      <td id=\"T_a6b90_row7_col3\" class=\"data row7 col3\" >0.909091</td>\n",
       "    </tr>\n",
       "    <tr>\n",
       "      <th id=\"T_a6b90_level0_row8\" class=\"row_heading level0 row8\" >8</th>\n",
       "      <td id=\"T_a6b90_row8_col0\" class=\"data row8 col0\" >def min_num(a, b, c):\n",
       "    return min(a, b, c)</td>\n",
       "      <td id=\"T_a6b90_row8_col1\" class=\"data row8 col1\" >def lcm (a ,b ):\n",
       "    return a *a \n",
       "a =5 \n",
       "a =6 \n",
       "a =7 \n",
       "a =a =a *a \n",
       "a =a \n",
       "a \n",
       "a =a +b \n",
       "a =a +b \n",
       "a +b \n",
       "a =a +b \n",
       "a +b \n",
       "a =a +b \n",
       "a \n",
       "a =a +b \n",
       "a \n",
       "a =a \n",
       "a +b \n",
       "a +b \n",
       "a =a +b \n",
       "a )\n",
       "a =a \n",
       "a =a +b \n",
       "a \n",
       "a +b \n",
       "a =a \n",
       "print (a )</td>\n",
       "      <td id=\"T_a6b90_row8_col2\" class=\"data row8 col2\" >-1.000000</td>\n",
       "      <td id=\"T_a6b90_row8_col3\" class=\"data row8 col3\" >-1.000000</td>\n",
       "    </tr>\n",
       "    <tr>\n",
       "      <th id=\"T_a6b90_level0_row9\" class=\"row_heading level0 row9\" >9</th>\n",
       "      <td id=\"T_a6b90_row9_col0\" class=\"data row9 col0\" >def count_char(s, char):\n",
       "    return s.count(char)</td>\n",
       "      <td id=\"T_a6b90_row9_col1\" class=\"data row9 col1\" >def reverse_string(str1):\n",
       "    return str1[:-1]\n",
       "</td>\n",
       "      <td id=\"T_a6b90_row9_col2\" class=\"data row9 col2\" >8.000000</td>\n",
       "      <td id=\"T_a6b90_row9_col3\" class=\"data row9 col3\" >0.836735</td>\n",
       "    </tr>\n",
       "    <tr>\n",
       "      <th id=\"T_a6b90_level0_row10\" class=\"row_heading level0 row10\" >10</th>\n",
       "      <td id=\"T_a6b90_row10_col0\" class=\"data row10 col0\" >def is_prime(n):\n",
       "    if n <= 1:\n",
       "        return False\n",
       "    for i in range(2, int(n**0.5) + 1):\n",
       "        if n % i == 0:\n",
       "            return False\n",
       "    return True</td>\n",
       "      <td id=\"T_a6b90_row10_col1\" class=\"data row10 col1\" >def compute_lcm(x, y):\n",
       "\n",
       "    # choose the greater number\n",
       "    # choose the greater number\n",
       "    if x > y:\n",
       "        x = x\n",
       "    else:\n",
       "        x = x\n",
       "\n",
       "    for x in range(1, x):\n",
       "        if (x % x == 0):\n",
       "            print(x)\n",
       "    else:\n",
       "        print(x)\n",
       "</td>\n",
       "      <td id=\"T_a6b90_row10_col2\" class=\"data row10 col2\" >36.000000</td>\n",
       "      <td id=\"T_a6b90_row10_col3\" class=\"data row10 col3\" >0.850000</td>\n",
       "    </tr>\n",
       "    <tr>\n",
       "      <th id=\"T_a6b90_level0_row11\" class=\"row_heading level0 row11\" >11</th>\n",
       "      <td id=\"T_a6b90_row11_col0\" class=\"data row11 col0\" >def list_length(lst):\n",
       "    return len(lst)</td>\n",
       "      <td id=\"T_a6b90_row11_col1\" class=\"data row11 col1\" >def multiply(x, y):\n",
       "    return x * y\n",
       "</td>\n",
       "      <td id=\"T_a6b90_row11_col2\" class=\"data row11 col2\" >3.000000</td>\n",
       "      <td id=\"T_a6b90_row11_col3\" class=\"data row11 col3\" >0.926829</td>\n",
       "    </tr>\n",
       "    <tr>\n",
       "      <th id=\"T_a6b90_level0_row12\" class=\"row_heading level0 row12\" >12</th>\n",
       "      <td id=\"T_a6b90_row12_col0\" class=\"data row12 col0\" >def first_element(lst):\n",
       "    return lst[0] if lst else None</td>\n",
       "      <td id=\"T_a6b90_row12_col1\" class=\"data row12 col1\" >def cal_perimeter_square(var_1):\n",
       "    return 4 * var_1\n",
       "</td>\n",
       "      <td id=\"T_a6b90_row12_col2\" class=\"data row12 col2\" >8.000000</td>\n",
       "      <td id=\"T_a6b90_row12_col3\" class=\"data row12 col3\" >0.862069</td>\n",
       "    </tr>\n",
       "    <tr>\n",
       "      <th id=\"T_a6b90_level0_row13\" class=\"row_heading level0 row13\" >13</th>\n",
       "      <td id=\"T_a6b90_row13_col0\" class=\"data row13 col0\" >def last_element(lst):\n",
       "    return lst[-1] if lst else None</td>\n",
       "      <td id=\"T_a6b90_row13_col1\" class=\"data row13 col1\" >def permute (nums ):\n",
       "    [[[]]]=[[[[[]]]][[[[[[]]]for var_1 in nums ]]]\n",
       "    return [[[[var_1 ]]for var_1 in nums ]\n",
       "\n",
       "</td>\n",
       "      <td id=\"T_a6b90_row13_col2\" class=\"data row13 col2\" >-1.000000</td>\n",
       "      <td id=\"T_a6b90_row13_col3\" class=\"data row13 col3\" >-1.000000</td>\n",
       "    </tr>\n",
       "    <tr>\n",
       "      <th id=\"T_a6b90_level0_row14\" class=\"row_heading level0 row14\" >14</th>\n",
       "      <td id=\"T_a6b90_row14_col0\" class=\"data row14 col0\" >def is_empty(lst):\n",
       "    return len(lst) == 0</td>\n",
       "      <td id=\"T_a6b90_row14_col1\" class=\"data row14 col1\" >def collable_check(var_1: list):\n",
       "    return callable(var_1)\n",
       "</td>\n",
       "      <td id=\"T_a6b90_row14_col2\" class=\"data row14 col2\" >5.000000</td>\n",
       "      <td id=\"T_a6b90_row14_col3\" class=\"data row14 col3\" >0.916667</td>\n",
       "    </tr>\n",
       "    <tr>\n",
       "      <th id=\"T_a6b90_level0_row15\" class=\"row_heading level0 row15\" >15</th>\n",
       "      <td id=\"T_a6b90_row15_col0\" class=\"data row15 col0\" >def absolute_value(n):\n",
       "    return abs(n)</td>\n",
       "      <td id=\"T_a6b90_row15_col1\" class=\"data row15 col1\" >def add_two_numbers(num1, num2):\n",
       "    var_1 = num1 + num2\n",
       "    return var_1\n",
       "</td>\n",
       "      <td id=\"T_a6b90_row15_col2\" class=\"data row15 col2\" >9.000000</td>\n",
       "      <td id=\"T_a6b90_row15_col3\" class=\"data row15 col3\" >0.878378</td>\n",
       "    </tr>\n",
       "    <tr>\n",
       "      <th id=\"T_a6b90_level0_row16\" class=\"row_heading level0 row16\" >16</th>\n",
       "      <td id=\"T_a6b90_row16_col0\" class=\"data row16 col0\" >def to_uppercase(s):\n",
       "    return s.upper()</td>\n",
       "      <td id=\"T_a6b90_row16_col1\" class=\"data row16 col1\" >def reverse_string(str1):\n",
       "    return str1[:-1]\n",
       "</td>\n",
       "      <td id=\"T_a6b90_row16_col2\" class=\"data row16 col2\" >6.000000</td>\n",
       "      <td id=\"T_a6b90_row16_col3\" class=\"data row16 col3\" >0.872340</td>\n",
       "    </tr>\n",
       "    <tr>\n",
       "      <th id=\"T_a6b90_level0_row17\" class=\"row_heading level0 row17\" >17</th>\n",
       "      <td id=\"T_a6b90_row17_col0\" class=\"data row17 col0\" >def to_lowercase(s):\n",
       "    return s.lower()</td>\n",
       "      <td id=\"T_a6b90_row17_col1\" class=\"data row17 col1\" >def reverse_string(str1):\n",
       "    return str1[:-1]\n",
       "</td>\n",
       "      <td id=\"T_a6b90_row17_col2\" class=\"data row17 col2\" >6.000000</td>\n",
       "      <td id=\"T_a6b90_row17_col3\" class=\"data row17 col3\" >0.872340</td>\n",
       "    </tr>\n",
       "    <tr>\n",
       "      <th id=\"T_a6b90_level0_row18\" class=\"row_heading level0 row18\" >18</th>\n",
       "      <td id=\"T_a6b90_row18_col0\" class=\"data row18 col0\" >def capitalize_string(s):\n",
       "    return s.capitalize()</td>\n",
       "      <td id=\"T_a6b90_row18_col1\" class=\"data row18 col1\" >def reverse_string(str1):\n",
       "    return str_to_be_reversed[:-1]\n",
       "</td>\n",
       "      <td id=\"T_a6b90_row18_col2\" class=\"data row18 col2\" >6.000000</td>\n",
       "      <td id=\"T_a6b90_row18_col3\" class=\"data row18 col3\" >0.901639</td>\n",
       "    </tr>\n",
       "    <tr>\n",
       "      <th id=\"T_a6b90_level0_row19\" class=\"row_heading level0 row19\" >19</th>\n",
       "      <td id=\"T_a6b90_row19_col0\" class=\"data row19 col0\" >def remainder(a, b):\n",
       "    return a % b</td>\n",
       "      <td id=\"T_a6b90_row19_col1\" class=\"data row19 col1\" >def compute_lcm(x, y):\n",
       "    if x > y:\n",
       "        greater = y\n",
       "    else:\n",
       "        greater = y\n",
       "    return True\n",
       "</td>\n",
       "      <td id=\"T_a6b90_row19_col2\" class=\"data row19 col2\" >15.000000</td>\n",
       "      <td id=\"T_a6b90_row19_col3\" class=\"data row19 col3\" >0.854369</td>\n",
       "    </tr>\n",
       "  </tbody>\n",
       "</table>\n"
      ],
      "text/plain": [
       "<pandas.io.formats.style.Styler at 0x1ce656855d0>"
      ]
     },
     "execution_count": 75,
     "metadata": {},
     "output_type": "execute_result"
    }
   ],
   "source": [
    "import pandas as pd\n",
    "\n",
    "ast_scores_df = pd.DataFrame(ast_scores)\n",
    "\n",
    "ast_scores_df['edit_distance'] = ast_scores_df['edit_distance'].fillna(-1)\n",
    "ast_scores_df['similarity'] = ast_scores_df['similarity'].fillna(-1)\n",
    "\n",
    "def highlight_none(row):\n",
    "    if row['edit_distance'] == -1 or row['similarity'] == -1:\n",
    "        return ['background-color: lightcoral'] * len(row)\n",
    "    return [''] * len(row)\n",
    "\n",
    "styled_table = ast_scores_df.style.apply(highlight_none, axis=1)\n",
    "styled_table\n",
    "\n"
   ]
  },
  {
   "cell_type": "markdown",
   "metadata": {},
   "source": [
    "- Histogram for Valid and Failed Cases"
   ]
  },
  {
   "cell_type": "code",
   "execution_count": 76,
   "metadata": {},
   "outputs": [],
   "source": [
    "import matplotlib.pyplot as plt\n",
    "import seaborn as sns"
   ]
  },
  {
   "cell_type": "code",
   "execution_count": 79,
   "metadata": {},
   "outputs": [
    {
     "data": {
      "image/png": "[encoded data removed]",
      "text/plain": [
       "<Figure size 1200x600 with 2 Axes>"
      ]
     },
     "metadata": {},
     "output_type": "display_data"
    }
   ],
   "source": [
    "valid_edit_distance = ast_scores_df[ast_scores_df['edit_distance'] != -1]\n",
    "failed_edit_distance = ast_scores_df[ast_scores_df['edit_distance'] == -1]\n",
    "\n",
    "plt.figure(figsize=(12, 6))\n",
    "\n",
    "plt.subplot(1, 2, 1)\n",
    "sns.histplot(valid_edit_distance['edit_distance'], kde=True, color='blue', label='Valid Cases')\n",
    "sns.histplot(failed_edit_distance['edit_distance'], kde=False, color='red', label='Failed Cases', bins=10)\n",
    "plt.title('Edit Distance Distribution')\n",
    "plt.legend()\n",
    "\n",
    "plt.subplot(1, 2, 2)\n",
    "sns.histplot(valid_edit_distance['similarity'], kde=True, color='green', label='Valid Cases')\n",
    "sns.histplot(failed_edit_distance['similarity'], kde=False, color='orange', label='Failed Cases', bins=10)\n",
    "plt.title('Similarity Distribution')\n",
    "plt.legend()\n",
    "\n",
    "plt.tight_layout()\n",
    "plt.show()\n"
   ]
  },
  {
   "cell_type": "markdown",
   "metadata": {},
   "source": [
    "- Violin Plot with Highlighted Failed Cases"
   ]
  },
  {
   "cell_type": "code",
   "execution_count": 84,
   "metadata": {},
   "outputs": [
    {
     "name": "stderr",
     "output_type": "stream",
     "text": [
      "C:\\Users\\Asus vivobook\\AppData\\Local\\Temp\\ipykernel_40064\\3499438384.py:6: FutureWarning: \n",
      "\n",
      "Passing `palette` without assigning `hue` is deprecated and will be removed in v0.14.0. Assign the `x` variable to `hue` and set `legend=False` for the same effect.\n",
      "\n",
      "  sns.violinplot(x='status', y='edit_distance', data=ast_scores_df, palette={'failed': 'red', 'valid': 'blue'})\n",
      "C:\\Users\\Asus vivobook\\AppData\\Local\\Temp\\ipykernel_40064\\3499438384.py:10: FutureWarning: \n",
      "\n",
      "Passing `palette` without assigning `hue` is deprecated and will be removed in v0.14.0. Assign the `x` variable to `hue` and set `legend=False` for the same effect.\n",
      "\n",
      "  sns.violinplot(x='status', y='similarity', data=ast_scores_df, palette={'failed': 'red', 'valid': 'green'})\n"
     ]
    },
    {
     "data": {
      "image/png": "[encoded data removed]",
      "text/plain": [
       "<Figure size 1200x600 with 2 Axes>"
      ]
     },
     "metadata": {},
     "output_type": "display_data"
    }
   ],
   "source": [
    "ast_scores_df['status'] = ast_scores_df.apply(lambda row: 'failed' if row['edit_distance'] == -1 or row['similarity'] == -1 else 'valid', axis=1)\n",
    "\n",
    "plt.figure(figsize=(12, 6))\n",
    "\n",
    "plt.subplot(1, 2, 1)\n",
    "sns.violinplot(x='status', y='edit_distance', data=ast_scores_df, palette={'failed': 'red', 'valid': 'blue'})\n",
    "plt.title('Violin Plot of Edit Distance')\n",
    "\n",
    "plt.subplot(1, 2, 2)\n",
    "sns.violinplot(x='status', y='similarity', data=ast_scores_df, palette={'failed': 'red', 'valid': 'green'})\n",
    "plt.title('Violin Plot of Similarity')\n",
    "\n",
    "plt.tight_layout()\n",
    "plt.show()\n"
   ]
  },
  {
   "cell_type": "markdown",
   "metadata": {},
   "source": [
    "<hr>"
   ]
  }
 ],
 "metadata": {
  "kernelspec": {
   "display_name": ".venv",
   "language": "python",
   "name": "python3"
  },
  "language_info": {
   "codemirror_mode": {
    "name": "ipython",
    "version": 3
   },
   "file_extension": ".py",
   "mimetype": "text/x-python",
   "name": "python",
   "nbconvert_exporter": "python",
   "pygments_lexer": "ipython3",
   "version": "3.10.10"
  }
 },
 "nbformat": 4,
 "nbformat_minor": 2
}
